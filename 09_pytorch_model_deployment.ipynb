{
  "nbformat": 4,
  "nbformat_minor": 0,
  "metadata": {
    "colab": {
      "provenance": [],
      "gpuType": "T4",
      "authorship_tag": "ABX9TyN+kDkZBmtvrhY9AneMfHYp",
      "include_colab_link": true
    },
    "kernelspec": {
      "name": "python3",
      "display_name": "Python 3"
    },
    "language_info": {
      "name": "python"
    },
    "accelerator": "GPU",
    "widgets": {
      "application/vnd.jupyter.widget-state+json": {
        "77d44bee96c74dcea83358bb3907c73d": {
          "model_module": "@jupyter-widgets/controls",
          "model_name": "HBoxModel",
          "model_module_version": "1.5.0",
          "state": {
            "_dom_classes": [],
            "_model_module": "@jupyter-widgets/controls",
            "_model_module_version": "1.5.0",
            "_model_name": "HBoxModel",
            "_view_count": null,
            "_view_module": "@jupyter-widgets/controls",
            "_view_module_version": "1.5.0",
            "_view_name": "HBoxView",
            "box_style": "",
            "children": [
              "IPY_MODEL_4f107411c6d547ca826259b7c554d011",
              "IPY_MODEL_78410b9e4ae24d2dbebfc5d3897e27ac",
              "IPY_MODEL_80c9f1bb8037434ab60742ea0ebeb725"
            ],
            "layout": "IPY_MODEL_325d3f395ba549ffa0932cf2b3db0a2a"
          }
        },
        "4f107411c6d547ca826259b7c554d011": {
          "model_module": "@jupyter-widgets/controls",
          "model_name": "HTMLModel",
          "model_module_version": "1.5.0",
          "state": {
            "_dom_classes": [],
            "_model_module": "@jupyter-widgets/controls",
            "_model_module_version": "1.5.0",
            "_model_name": "HTMLModel",
            "_view_count": null,
            "_view_module": "@jupyter-widgets/controls",
            "_view_module_version": "1.5.0",
            "_view_name": "HTMLView",
            "description": "",
            "description_tooltip": null,
            "layout": "IPY_MODEL_5db85b3ced0d4e3bb6d809443a932b5a",
            "placeholder": "​",
            "style": "IPY_MODEL_6a7414b18e534294b043e10bed49b1ec",
            "value": "100%"
          }
        },
        "78410b9e4ae24d2dbebfc5d3897e27ac": {
          "model_module": "@jupyter-widgets/controls",
          "model_name": "FloatProgressModel",
          "model_module_version": "1.5.0",
          "state": {
            "_dom_classes": [],
            "_model_module": "@jupyter-widgets/controls",
            "_model_module_version": "1.5.0",
            "_model_name": "FloatProgressModel",
            "_view_count": null,
            "_view_module": "@jupyter-widgets/controls",
            "_view_module_version": "1.5.0",
            "_view_name": "ProgressView",
            "bar_style": "success",
            "description": "",
            "description_tooltip": null,
            "layout": "IPY_MODEL_8b88dc7b62c644268fec1d4466032274",
            "max": 10,
            "min": 0,
            "orientation": "horizontal",
            "style": "IPY_MODEL_054aa9f630994ece98df409932b107cf",
            "value": 10
          }
        },
        "80c9f1bb8037434ab60742ea0ebeb725": {
          "model_module": "@jupyter-widgets/controls",
          "model_name": "HTMLModel",
          "model_module_version": "1.5.0",
          "state": {
            "_dom_classes": [],
            "_model_module": "@jupyter-widgets/controls",
            "_model_module_version": "1.5.0",
            "_model_name": "HTMLModel",
            "_view_count": null,
            "_view_module": "@jupyter-widgets/controls",
            "_view_module_version": "1.5.0",
            "_view_name": "HTMLView",
            "description": "",
            "description_tooltip": null,
            "layout": "IPY_MODEL_f67e118829b24f809eab929ccd611134",
            "placeholder": "​",
            "style": "IPY_MODEL_441f06d84bc64fbeb902894f6a433df7",
            "value": " 10/10 [00:42&lt;00:00,  4.34s/it]"
          }
        },
        "325d3f395ba549ffa0932cf2b3db0a2a": {
          "model_module": "@jupyter-widgets/base",
          "model_name": "LayoutModel",
          "model_module_version": "1.2.0",
          "state": {
            "_model_module": "@jupyter-widgets/base",
            "_model_module_version": "1.2.0",
            "_model_name": "LayoutModel",
            "_view_count": null,
            "_view_module": "@jupyter-widgets/base",
            "_view_module_version": "1.2.0",
            "_view_name": "LayoutView",
            "align_content": null,
            "align_items": null,
            "align_self": null,
            "border": null,
            "bottom": null,
            "display": null,
            "flex": null,
            "flex_flow": null,
            "grid_area": null,
            "grid_auto_columns": null,
            "grid_auto_flow": null,
            "grid_auto_rows": null,
            "grid_column": null,
            "grid_gap": null,
            "grid_row": null,
            "grid_template_areas": null,
            "grid_template_columns": null,
            "grid_template_rows": null,
            "height": null,
            "justify_content": null,
            "justify_items": null,
            "left": null,
            "margin": null,
            "max_height": null,
            "max_width": null,
            "min_height": null,
            "min_width": null,
            "object_fit": null,
            "object_position": null,
            "order": null,
            "overflow": null,
            "overflow_x": null,
            "overflow_y": null,
            "padding": null,
            "right": null,
            "top": null,
            "visibility": null,
            "width": null
          }
        },
        "5db85b3ced0d4e3bb6d809443a932b5a": {
          "model_module": "@jupyter-widgets/base",
          "model_name": "LayoutModel",
          "model_module_version": "1.2.0",
          "state": {
            "_model_module": "@jupyter-widgets/base",
            "_model_module_version": "1.2.0",
            "_model_name": "LayoutModel",
            "_view_count": null,
            "_view_module": "@jupyter-widgets/base",
            "_view_module_version": "1.2.0",
            "_view_name": "LayoutView",
            "align_content": null,
            "align_items": null,
            "align_self": null,
            "border": null,
            "bottom": null,
            "display": null,
            "flex": null,
            "flex_flow": null,
            "grid_area": null,
            "grid_auto_columns": null,
            "grid_auto_flow": null,
            "grid_auto_rows": null,
            "grid_column": null,
            "grid_gap": null,
            "grid_row": null,
            "grid_template_areas": null,
            "grid_template_columns": null,
            "grid_template_rows": null,
            "height": null,
            "justify_content": null,
            "justify_items": null,
            "left": null,
            "margin": null,
            "max_height": null,
            "max_width": null,
            "min_height": null,
            "min_width": null,
            "object_fit": null,
            "object_position": null,
            "order": null,
            "overflow": null,
            "overflow_x": null,
            "overflow_y": null,
            "padding": null,
            "right": null,
            "top": null,
            "visibility": null,
            "width": null
          }
        },
        "6a7414b18e534294b043e10bed49b1ec": {
          "model_module": "@jupyter-widgets/controls",
          "model_name": "DescriptionStyleModel",
          "model_module_version": "1.5.0",
          "state": {
            "_model_module": "@jupyter-widgets/controls",
            "_model_module_version": "1.5.0",
            "_model_name": "DescriptionStyleModel",
            "_view_count": null,
            "_view_module": "@jupyter-widgets/base",
            "_view_module_version": "1.2.0",
            "_view_name": "StyleView",
            "description_width": ""
          }
        },
        "8b88dc7b62c644268fec1d4466032274": {
          "model_module": "@jupyter-widgets/base",
          "model_name": "LayoutModel",
          "model_module_version": "1.2.0",
          "state": {
            "_model_module": "@jupyter-widgets/base",
            "_model_module_version": "1.2.0",
            "_model_name": "LayoutModel",
            "_view_count": null,
            "_view_module": "@jupyter-widgets/base",
            "_view_module_version": "1.2.0",
            "_view_name": "LayoutView",
            "align_content": null,
            "align_items": null,
            "align_self": null,
            "border": null,
            "bottom": null,
            "display": null,
            "flex": null,
            "flex_flow": null,
            "grid_area": null,
            "grid_auto_columns": null,
            "grid_auto_flow": null,
            "grid_auto_rows": null,
            "grid_column": null,
            "grid_gap": null,
            "grid_row": null,
            "grid_template_areas": null,
            "grid_template_columns": null,
            "grid_template_rows": null,
            "height": null,
            "justify_content": null,
            "justify_items": null,
            "left": null,
            "margin": null,
            "max_height": null,
            "max_width": null,
            "min_height": null,
            "min_width": null,
            "object_fit": null,
            "object_position": null,
            "order": null,
            "overflow": null,
            "overflow_x": null,
            "overflow_y": null,
            "padding": null,
            "right": null,
            "top": null,
            "visibility": null,
            "width": null
          }
        },
        "054aa9f630994ece98df409932b107cf": {
          "model_module": "@jupyter-widgets/controls",
          "model_name": "ProgressStyleModel",
          "model_module_version": "1.5.0",
          "state": {
            "_model_module": "@jupyter-widgets/controls",
            "_model_module_version": "1.5.0",
            "_model_name": "ProgressStyleModel",
            "_view_count": null,
            "_view_module": "@jupyter-widgets/base",
            "_view_module_version": "1.2.0",
            "_view_name": "StyleView",
            "bar_color": null,
            "description_width": ""
          }
        },
        "f67e118829b24f809eab929ccd611134": {
          "model_module": "@jupyter-widgets/base",
          "model_name": "LayoutModel",
          "model_module_version": "1.2.0",
          "state": {
            "_model_module": "@jupyter-widgets/base",
            "_model_module_version": "1.2.0",
            "_model_name": "LayoutModel",
            "_view_count": null,
            "_view_module": "@jupyter-widgets/base",
            "_view_module_version": "1.2.0",
            "_view_name": "LayoutView",
            "align_content": null,
            "align_items": null,
            "align_self": null,
            "border": null,
            "bottom": null,
            "display": null,
            "flex": null,
            "flex_flow": null,
            "grid_area": null,
            "grid_auto_columns": null,
            "grid_auto_flow": null,
            "grid_auto_rows": null,
            "grid_column": null,
            "grid_gap": null,
            "grid_row": null,
            "grid_template_areas": null,
            "grid_template_columns": null,
            "grid_template_rows": null,
            "height": null,
            "justify_content": null,
            "justify_items": null,
            "left": null,
            "margin": null,
            "max_height": null,
            "max_width": null,
            "min_height": null,
            "min_width": null,
            "object_fit": null,
            "object_position": null,
            "order": null,
            "overflow": null,
            "overflow_x": null,
            "overflow_y": null,
            "padding": null,
            "right": null,
            "top": null,
            "visibility": null,
            "width": null
          }
        },
        "441f06d84bc64fbeb902894f6a433df7": {
          "model_module": "@jupyter-widgets/controls",
          "model_name": "DescriptionStyleModel",
          "model_module_version": "1.5.0",
          "state": {
            "_model_module": "@jupyter-widgets/controls",
            "_model_module_version": "1.5.0",
            "_model_name": "DescriptionStyleModel",
            "_view_count": null,
            "_view_module": "@jupyter-widgets/base",
            "_view_module_version": "1.2.0",
            "_view_name": "StyleView",
            "description_width": ""
          }
        }
      }
    }
  },
  "cells": [
    {
      "cell_type": "markdown",
      "metadata": {
        "id": "view-in-github",
        "colab_type": "text"
      },
      "source": [
        "<a href=\"https://colab.research.google.com/github/gil612/PyTorch/blob/main/09_pytorch_model_deployment.ipynb\" target=\"_parent\"><img src=\"https://colab.research.google.com/assets/colab-badge.svg\" alt=\"Open In Colab\"/></a>"
      ]
    },
    {
      "cell_type": "markdown",
      "source": [
        "# 09. PyTorch Model Deployment\n",
        "What is model deployment?\n",
        "Machine Learning model deployment is the act of making your machine learning model(s) available to someone or something else.\n"
      ],
      "metadata": {
        "id": "twt2NilNtR20"
      }
    },
    {
      "cell_type": "markdown",
      "source": [
        "## 0. Get Setup"
      ],
      "metadata": {
        "id": "GBuBKYdPuDNn"
      }
    },
    {
      "cell_type": "code",
      "source": [
        "# For this notebook to run with updated APIs, we need torch 1.12+ and torchvision 0.13+\n",
        "try:\n",
        "    import torch\n",
        "    import torchvision\n",
        "    assert int(torch.__version__.split(\".\")[1]) >= 12, \"torch version should be 1.12+\"\n",
        "    assert int(torchvision.__version__.split(\".\")[1]) >= 13, \"torchvision version should be 0.13+\"\n",
        "    print(f\"torch version: {torch.__version__}\")\n",
        "    print(f\"torchvision version: {torchvision.__version__}\")\n",
        "except:\n",
        "    print(f\"[INFO] torch/torchvision versions not as required, installing nightly versions.\")\n",
        "    !pip3 install --pre torch torchvision torchaudio --index-url https://download.pytorch.org/whl/nightly/cu121\n",
        "    import torch\n",
        "    import torchvision\n",
        "    print(f\"torch version: {torch.__version__}\")\n",
        "    print(f\"torchvision version: {torchvision.__version__}\")"
      ],
      "metadata": {
        "colab": {
          "base_uri": "https://localhost:8080/"
        },
        "id": "2TEc4BLEuWzp",
        "outputId": "8505a532-aeeb-4cec-9ced-4d1a8a6fb143"
      },
      "execution_count": 1,
      "outputs": [
        {
          "output_type": "stream",
          "name": "stdout",
          "text": [
            "[INFO] torch/torchvision versions not as required, installing nightly versions.\n",
            "Looking in indexes: https://download.pytorch.org/whl/nightly/cu121\n",
            "Requirement already satisfied: torch in /usr/local/lib/python3.10/dist-packages (2.5.1+cu121)\n",
            "Requirement already satisfied: torchvision in /usr/local/lib/python3.10/dist-packages (0.20.1+cu121)\n",
            "Requirement already satisfied: torchaudio in /usr/local/lib/python3.10/dist-packages (2.5.1+cu121)\n",
            "Requirement already satisfied: filelock in /usr/local/lib/python3.10/dist-packages (from torch) (3.16.1)\n",
            "Requirement already satisfied: typing-extensions>=4.8.0 in /usr/local/lib/python3.10/dist-packages (from torch) (4.12.2)\n",
            "Requirement already satisfied: networkx in /usr/local/lib/python3.10/dist-packages (from torch) (3.4.2)\n",
            "Requirement already satisfied: jinja2 in /usr/local/lib/python3.10/dist-packages (from torch) (3.1.4)\n",
            "Requirement already satisfied: fsspec in /usr/local/lib/python3.10/dist-packages (from torch) (2024.10.0)\n",
            "Requirement already satisfied: sympy==1.13.1 in /usr/local/lib/python3.10/dist-packages (from torch) (1.13.1)\n",
            "Requirement already satisfied: mpmath<1.4,>=1.1.0 in /usr/local/lib/python3.10/dist-packages (from sympy==1.13.1->torch) (1.3.0)\n",
            "Requirement already satisfied: numpy in /usr/local/lib/python3.10/dist-packages (from torchvision) (1.26.4)\n",
            "Requirement already satisfied: pillow!=8.3.*,>=5.3.0 in /usr/local/lib/python3.10/dist-packages (from torchvision) (11.0.0)\n",
            "Requirement already satisfied: MarkupSafe>=2.0 in /usr/local/lib/python3.10/dist-packages (from jinja2->torch) (3.0.2)\n",
            "torch version: 2.5.1+cu121\n",
            "torchvision version: 0.20.1+cu121\n"
          ]
        }
      ]
    },
    {
      "cell_type": "code",
      "source": [
        "import requests\n",
        "from pathlib import Path\n",
        "\n",
        "\n",
        "if Path(\"helper_functions.py\").is_file():\n",
        "  print()\n",
        "else:\n",
        "  print(\"Downloading helper_functions.py\")\n",
        "  request = requests.get(\"https://raw.githubusercontent.com/gil612/PyTorch/main/helper_functions.py\")\n",
        "  with open(\"helper_functions.py\", \"wb\") as f:\n",
        "    f.write(request.content)"
      ],
      "metadata": {
        "colab": {
          "base_uri": "https://localhost:8080/"
        },
        "id": "JRkMRyG9uu0D",
        "outputId": "3ae8dcb5-109d-4c25-dfe5-dd567853e0d0"
      },
      "execution_count": 2,
      "outputs": [
        {
          "output_type": "stream",
          "name": "stdout",
          "text": [
            "Downloading helper_functions.py\n"
          ]
        }
      ]
    },
    {
      "cell_type": "code",
      "source": [
        "import matplotlib.pyplot as plt\n",
        "import torch\n",
        "import torchvision\n",
        "\n",
        "from torch import nn\n",
        "from torchvision import transforms\n",
        "\n",
        "# Try to get torchinfo, install it if it doesn't work\n",
        "try:\n",
        "    from torchinfo import summary\n",
        "except:\n",
        "    print(\"[INFO] Couldn't find torchinfo... installing it.\")\n",
        "    !pip install -q torchinfo\n",
        "    from torchinfo import summary\n",
        "\n",
        "# Try to import the going_modular directory, download it from GitHub if it doesn't work\n",
        "try:\n",
        "    from going_modular.going_modular import data_setup, engine\n",
        "    from helper_functions import download_data, set_seeds, plot_loss_curves\n",
        "except:\n",
        "    # Get the going_modular scripts\n",
        "    print(\"[INFO] Couldn't find going_modular scripts... downloading them from GitHub.\")\n",
        "    !git clone https://github.com/mrdbourke/pytorch-deep-learning\n",
        "    !mv pytorch-deep-learning/going_modular .\n",
        "    !rm -rf pytorch-deep-learning\n",
        "    from going_modular.going_modular import data_setup, engine\n",
        "    from helper_functions import download_data, set_seeds, plot_loss_curves"
      ],
      "metadata": {
        "colab": {
          "base_uri": "https://localhost:8080/"
        },
        "id": "Y4WCoTbguzW8",
        "outputId": "dd5a1b73-c5a1-459e-c5e6-f35c8b1b5379"
      },
      "execution_count": 3,
      "outputs": [
        {
          "output_type": "stream",
          "name": "stdout",
          "text": [
            "[INFO] Couldn't find torchinfo... installing it.\n",
            "[INFO] Couldn't find going_modular scripts... downloading them from GitHub.\n",
            "Cloning into 'pytorch-deep-learning'...\n",
            "remote: Enumerating objects: 4356, done.\u001b[K\n",
            "remote: Counting objects: 100% (321/321), done.\u001b[K\n",
            "remote: Compressing objects: 100% (142/142), done.\u001b[K\n",
            "remote: Total 4356 (delta 213), reused 254 (delta 178), pack-reused 4035 (from 1)\u001b[K\n",
            "Receiving objects: 100% (4356/4356), 654.51 MiB | 15.97 MiB/s, done.\n",
            "Resolving deltas: 100% (2585/2585), done.\n",
            "Updating files: 100% (248/248), done.\n"
          ]
        }
      ]
    },
    {
      "cell_type": "code",
      "source": [
        "# Setup device agnostic code\n",
        "device = \"cuda\" if torch.cuda.is_available() else \"cpu\"\n",
        "device"
      ],
      "metadata": {
        "colab": {
          "base_uri": "https://localhost:8080/",
          "height": 36
        },
        "id": "okCV72Xdu6VY",
        "outputId": "e8495c9c-a582-4f27-c611-fbde046d7a02"
      },
      "execution_count": 4,
      "outputs": [
        {
          "output_type": "execute_result",
          "data": {
            "text/plain": [
              "'cuda'"
            ],
            "application/vnd.google.colaboratory.intrinsic+json": {
              "type": "string"
            }
          },
          "metadata": {},
          "execution_count": 4
        }
      ]
    },
    {
      "cell_type": "markdown",
      "source": [
        "## 1. Getting Data"
      ],
      "metadata": {
        "id": "SF4mmDmJuIlU"
      }
    },
    {
      "cell_type": "code",
      "source": [
        "import os\n",
        "import zipfile\n",
        "\n",
        "from pathlib import Path\n",
        "\n",
        "import requests\n",
        "\n",
        "\n",
        "\n",
        "def download_data(source: str,\n",
        "                  destination: str,\n",
        "                  remove_source: bool = True) -> Path:\n",
        "    \"\"\" \"\"\"\n",
        "    # Setup path to data folder\n",
        "    data_path = Path(\"data/\")\n",
        "    image_path = data_path /destination\n",
        "\n",
        "    # If the image folder doesn't exist, download it and prepare it...\n",
        "    if image_path.is_dir():\n",
        "      print(f\"[INFO] {image_path} directory already exists... skipping download\")\n",
        "    else:\n",
        "      print(f\"[INFO] {image_path} does not exist, creating one...\")\n",
        "      image_path.mkdir(parents=True, exist_ok=True)\n",
        "\n",
        "    # Download the target data\n",
        "    target_file = Path(source).name\n",
        "    with open(data_path / target_file, \"wb\") as f:\n",
        "      request = requests.get(source)\n",
        "      print(f\"[INFO] Downloading {target_file} from {source}...\")\n",
        "      f.write(request.content)\n",
        "\n",
        "    # Unzip target_file\n",
        "    with zipfile.ZipFile(data_path / target_file, \"r\") as zip_ref:\n",
        "      print(f\"[INFO] Unzipping {target_file} data...\")\n",
        "      zip_ref.extractall(image_path)\n",
        "\n",
        "    # Remove .zip file if needed\n",
        "    if remove_source:\n",
        "      os.remove(data_path / target_file)\n",
        "\n",
        "    return image_path"
      ],
      "metadata": {
        "id": "6peRI1OiuAjp"
      },
      "execution_count": 5,
      "outputs": []
    },
    {
      "cell_type": "code",
      "source": [
        "image_path = download_data(source = \"https://github.com/mrdbourke/pytorch-deep-learning/raw/main/data/pizza_steak_sushi.zip\",\n",
        "                           destination = \"pizza_steak_sushi\")\n",
        "image_path"
      ],
      "metadata": {
        "colab": {
          "base_uri": "https://localhost:8080/"
        },
        "id": "jV73TCUDvyI4",
        "outputId": "4fa622f5-a4d1-4795-a576-02971ddb76f0"
      },
      "execution_count": 6,
      "outputs": [
        {
          "output_type": "stream",
          "name": "stdout",
          "text": [
            "[INFO] data/pizza_steak_sushi does not exist, creating one...\n",
            "[INFO] Downloading pizza_steak_sushi.zip from https://github.com/mrdbourke/pytorch-deep-learning/raw/main/data/pizza_steak_sushi.zip...\n",
            "[INFO] Unzipping pizza_steak_sushi.zip data...\n"
          ]
        },
        {
          "output_type": "execute_result",
          "data": {
            "text/plain": [
              "PosixPath('data/pizza_steak_sushi')"
            ]
          },
          "metadata": {},
          "execution_count": 6
        }
      ]
    },
    {
      "cell_type": "code",
      "source": [
        "# Setup train and testing paths\n",
        "train_dir = image_path / \"train\"\n",
        "test_dir = image_path / \"test\"\n",
        "\n",
        "train_dir, test_dir"
      ],
      "metadata": {
        "colab": {
          "base_uri": "https://localhost:8080/"
        },
        "id": "4l-2QnCzv1YX",
        "outputId": "5fc6ee50-c084-45a9-a669-40c8609c998d"
      },
      "execution_count": 7,
      "outputs": [
        {
          "output_type": "execute_result",
          "data": {
            "text/plain": [
              "(PosixPath('data/pizza_steak_sushi/train'),\n",
              " PosixPath('data/pizza_steak_sushi/test'))"
            ]
          },
          "metadata": {},
          "execution_count": 7
        }
      ]
    },
    {
      "cell_type": "markdown",
      "source": [
        "## 2. Foodvision Mini Model deployment experiment outline\n",
        "\n",
        "### 3 questions\n",
        "1. What is my most ideal machine learning model deployment scenario?\n",
        "2. 'where is my model going to function?\n",
        "\n",
        "**FoodVision Mini ideal use case:** A model that perform wellm and fast.\n",
        "\n",
        "1. Perfoems well: 95%+ accuracy\n",
        "2. Fast: as close to real-time (or faster) as possible (30FPS + or 30ms latency)\n",
        "  * Latency = time for prediction to take place\n",
        "\n",
        "To try achive these goals, we're going to buils two midel wxperiments:\n",
        "\n",
        "1. EffNetB2 feature extractor (just like in 07. PyTorch Experiment Tracking)\n",
        "2. ViT feature extractor (just like in 08. PyTorch Paper Replicating)"
      ],
      "metadata": {
        "id": "9YP_WDs3v-sx"
      }
    },
    {
      "cell_type": "code",
      "source": [
        "1 / 30"
      ],
      "metadata": {
        "colab": {
          "base_uri": "https://localhost:8080/"
        },
        "id": "JHPducTkv56f",
        "outputId": "df5ec06f-60c6-48d4-8a8a-ed7fbaa06e5e"
      },
      "execution_count": 8,
      "outputs": [
        {
          "output_type": "execute_result",
          "data": {
            "text/plain": [
              "0.03333333333333333"
            ]
          },
          "metadata": {},
          "execution_count": 8
        }
      ]
    },
    {
      "cell_type": "markdown",
      "source": [
        "## 3. Creating an EffNetB2 feature extractor\n",
        "\n",
        "Feature extractor = a term for a transfer learning model that has its base layers frozen and output layers (or head layers) customized to a ceretain problem.\n",
        "\n",
        "EffNetB2 pretraind model in PyTorch:\n",
        "--Link--\n"
      ],
      "metadata": {
        "id": "FbRbg3JY0Ror"
      }
    },
    {
      "cell_type": "code",
      "source": [
        "import torchvision\n",
        "\n",
        "\n",
        "\n",
        "\n",
        "effnetb2_weights = torchvision.models.EfficientNet_B2_Weights.DEFAULT\n",
        "effnetb2_transforms = effnetb2_weights.transforms()\n",
        "effnetb2 = torchvision.models.efficientnet_b2(weights = effnetb2_weights)\n",
        "\n",
        "for param in effnetb2.parameters():\n",
        "  param.require_grad = False"
      ],
      "metadata": {
        "colab": {
          "base_uri": "https://localhost:8080/"
        },
        "id": "3Z1bozE1yk9t",
        "outputId": "496dc4cc-a390-4ec9-e207-deddb298a3b6"
      },
      "execution_count": 9,
      "outputs": [
        {
          "output_type": "stream",
          "name": "stderr",
          "text": [
            "Downloading: \"https://download.pytorch.org/models/efficientnet_b2_rwightman-c35c1473.pth\" to /root/.cache/torch/hub/checkpoints/efficientnet_b2_rwightman-c35c1473.pth\n",
            "100%|██████████| 35.2M/35.2M [00:00<00:00, 107MB/s]\n"
          ]
        }
      ]
    },
    {
      "cell_type": "code",
      "source": [
        "from torchinfo import summary\n",
        "effnetb2.classifier"
      ],
      "metadata": {
        "colab": {
          "base_uri": "https://localhost:8080/"
        },
        "id": "hNMvLg6L2H-m",
        "outputId": "c2413aa1-0412-4a2e-cd95-2a588c588d92"
      },
      "execution_count": 10,
      "outputs": [
        {
          "output_type": "execute_result",
          "data": {
            "text/plain": [
              "Sequential(\n",
              "  (0): Dropout(p=0.3, inplace=True)\n",
              "  (1): Linear(in_features=1408, out_features=1000, bias=True)\n",
              ")"
            ]
          },
          "metadata": {},
          "execution_count": 10
        }
      ]
    },
    {
      "cell_type": "code",
      "source": [
        "set_seeds()\n",
        "effnetb2.classifier = nn.Sequential(\n",
        "    nn.Dropout(p=0.3, inplace=True),\n",
        "    nn.Linear(in_features=1408, out_features=1000, bias=True))"
      ],
      "metadata": {
        "id": "z2EU9LoO2iPn"
      },
      "execution_count": 11,
      "outputs": []
    },
    {
      "cell_type": "code",
      "source": [],
      "metadata": {
        "id": "-ey-f4B43V_9"
      },
      "execution_count": 11,
      "outputs": []
    },
    {
      "cell_type": "markdown",
      "source": [
        "### 3.1 Creaating a function to make EffNetB2 feature Extractor"
      ],
      "metadata": {
        "id": "yd-7Fx0oLopa"
      }
    },
    {
      "cell_type": "code",
      "source": [
        "def create_effnetb2_model(num_classes:int=3,\n",
        "                          seed:int=42):\n",
        "  weights = torchvision.models.EfficientNet_B2_Weights.DEFAULT\n",
        "  transforms = weights.transforms()\n",
        "  model = torchvision.models.efficientnet_b2(weights = weights)\n",
        "\n",
        "  for param in model.parameters():\n",
        "    param.require_grad = False\n",
        "\n",
        "  torch.manual_seed(seed)\n",
        "  model.classifier = nn.Sequential(\n",
        "    nn.Dropout(p=0.3, inplace=True),\n",
        "    nn.Linear(in_features=1408, out_features=num_classes) )\n",
        "\n",
        "  return model, transforms"
      ],
      "metadata": {
        "id": "wd1T7e4fLu5K"
      },
      "execution_count": 13,
      "outputs": []
    },
    {
      "cell_type": "code",
      "source": [
        "effnetb2, effnetb2_transforms = create_effnetb2_model(num_classes = 3, seed = 42)"
      ],
      "metadata": {
        "id": "ksX50gbOM_7D"
      },
      "execution_count": 15,
      "outputs": []
    },
    {
      "cell_type": "code",
      "source": [
        "effnetb2_transforms"
      ],
      "metadata": {
        "colab": {
          "base_uri": "https://localhost:8080/"
        },
        "id": "rGdyOZjzNM8G",
        "outputId": "95c30d04-ddc9-4e80-b7b5-96b68224a2f8"
      },
      "execution_count": 16,
      "outputs": [
        {
          "output_type": "execute_result",
          "data": {
            "text/plain": [
              "ImageClassification(\n",
              "    crop_size=[288]\n",
              "    resize_size=[288]\n",
              "    mean=[0.485, 0.456, 0.406]\n",
              "    std=[0.229, 0.224, 0.225]\n",
              "    interpolation=InterpolationMode.BICUBIC\n",
              ")"
            ]
          },
          "metadata": {},
          "execution_count": 16
        }
      ]
    },
    {
      "cell_type": "code",
      "source": [
        "from torchinfo import summary\n",
        "\n",
        "summary(effnetb2,\n",
        "        input_size=(1, 3, 288, 288),\n",
        "        col_names = [\"input_size\", \"output_size\", \"num_params\", \"trainable\"],\n",
        "        col_width = 10,\n",
        "        row_settings=['var_names'])"
      ],
      "metadata": {
        "colab": {
          "base_uri": "https://localhost:8080/"
        },
        "id": "3BxnmVtJNT__",
        "outputId": "f3fa9dfa-dbe1-4486-8593-8a2b511799b6"
      },
      "execution_count": 18,
      "outputs": [
        {
          "output_type": "execute_result",
          "data": {
            "text/plain": [
              "====================================================================================================\n",
              "Layer (type (var_name))                                      Input Shape Output Shape Param #    Trainable\n",
              "====================================================================================================\n",
              "EfficientNet (EfficientNet)                                  [1, 3, 288, 288] [1, 3]     --         True\n",
              "├─Sequential (features)                                      [1, 3, 288, 288] [1, 1408, 9, 9] --         True\n",
              "│    └─Conv2dNormActivation (0)                              [1, 3, 288, 288] [1, 32, 144, 144] --         True\n",
              "│    │    └─Conv2d (0)                                       [1, 3, 288, 288] [1, 32, 144, 144] 864        True\n",
              "│    │    └─BatchNorm2d (1)                                  [1, 32, 144, 144] [1, 32, 144, 144] 64         True\n",
              "│    │    └─SiLU (2)                                         [1, 32, 144, 144] [1, 32, 144, 144] --         --\n",
              "│    └─Sequential (1)                                        [1, 32, 144, 144] [1, 16, 144, 144] --         True\n",
              "│    │    └─MBConv (0)                                       [1, 32, 144, 144] [1, 16, 144, 144] 1,448      True\n",
              "│    │    └─MBConv (1)                                       [1, 16, 144, 144] [1, 16, 144, 144] 612        True\n",
              "│    └─Sequential (2)                                        [1, 16, 144, 144] [1, 24, 72, 72] --         True\n",
              "│    │    └─MBConv (0)                                       [1, 16, 144, 144] [1, 24, 72, 72] 6,004      True\n",
              "│    │    └─MBConv (1)                                       [1, 24, 72, 72] [1, 24, 72, 72] 10,710     True\n",
              "│    │    └─MBConv (2)                                       [1, 24, 72, 72] [1, 24, 72, 72] 10,710     True\n",
              "│    └─Sequential (3)                                        [1, 24, 72, 72] [1, 48, 36, 36] --         True\n",
              "│    │    └─MBConv (0)                                       [1, 24, 72, 72] [1, 48, 36, 36] 16,518     True\n",
              "│    │    └─MBConv (1)                                       [1, 48, 36, 36] [1, 48, 36, 36] 43,308     True\n",
              "│    │    └─MBConv (2)                                       [1, 48, 36, 36] [1, 48, 36, 36] 43,308     True\n",
              "│    └─Sequential (4)                                        [1, 48, 36, 36] [1, 88, 18, 18] --         True\n",
              "│    │    └─MBConv (0)                                       [1, 48, 36, 36] [1, 88, 18, 18] 50,300     True\n",
              "│    │    └─MBConv (1)                                       [1, 88, 18, 18] [1, 88, 18, 18] 123,750    True\n",
              "│    │    └─MBConv (2)                                       [1, 88, 18, 18] [1, 88, 18, 18] 123,750    True\n",
              "│    │    └─MBConv (3)                                       [1, 88, 18, 18] [1, 88, 18, 18] 123,750    True\n",
              "│    └─Sequential (5)                                        [1, 88, 18, 18] [1, 120, 18, 18] --         True\n",
              "│    │    └─MBConv (0)                                       [1, 88, 18, 18] [1, 120, 18, 18] 149,158    True\n",
              "│    │    └─MBConv (1)                                       [1, 120, 18, 18] [1, 120, 18, 18] 237,870    True\n",
              "│    │    └─MBConv (2)                                       [1, 120, 18, 18] [1, 120, 18, 18] 237,870    True\n",
              "│    │    └─MBConv (3)                                       [1, 120, 18, 18] [1, 120, 18, 18] 237,870    True\n",
              "│    └─Sequential (6)                                        [1, 120, 18, 18] [1, 208, 9, 9] --         True\n",
              "│    │    └─MBConv (0)                                       [1, 120, 18, 18] [1, 208, 9, 9] 301,406    True\n",
              "│    │    └─MBConv (1)                                       [1, 208, 9, 9] [1, 208, 9, 9] 686,868    True\n",
              "│    │    └─MBConv (2)                                       [1, 208, 9, 9] [1, 208, 9, 9] 686,868    True\n",
              "│    │    └─MBConv (3)                                       [1, 208, 9, 9] [1, 208, 9, 9] 686,868    True\n",
              "│    │    └─MBConv (4)                                       [1, 208, 9, 9] [1, 208, 9, 9] 686,868    True\n",
              "│    └─Sequential (7)                                        [1, 208, 9, 9] [1, 352, 9, 9] --         True\n",
              "│    │    └─MBConv (0)                                       [1, 208, 9, 9] [1, 352, 9, 9] 846,900    True\n",
              "│    │    └─MBConv (1)                                       [1, 352, 9, 9] [1, 352, 9, 9] 1,888,920  True\n",
              "│    └─Conv2dNormActivation (8)                              [1, 352, 9, 9] [1, 1408, 9, 9] --         True\n",
              "│    │    └─Conv2d (0)                                       [1, 352, 9, 9] [1, 1408, 9, 9] 495,616    True\n",
              "│    │    └─BatchNorm2d (1)                                  [1, 1408, 9, 9] [1, 1408, 9, 9] 2,816      True\n",
              "│    │    └─SiLU (2)                                         [1, 1408, 9, 9] [1, 1408, 9, 9] --         --\n",
              "├─AdaptiveAvgPool2d (avgpool)                                [1, 1408, 9, 9] [1, 1408, 1, 1] --         --\n",
              "├─Sequential (classifier)                                    [1, 1408]  [1, 3]     --         True\n",
              "│    └─Dropout (0)                                           [1, 1408]  [1, 1408]  --         --\n",
              "│    └─Linear (1)                                            [1, 1408]  [1, 3]     4,227      True\n",
              "====================================================================================================\n",
              "Total params: 7,705,221\n",
              "Trainable params: 7,705,221\n",
              "Non-trainable params: 0\n",
              "Total mult-adds (G): 1.09\n",
              "====================================================================================================\n",
              "Input size (MB): 1.00\n",
              "Forward/backward pass size (MB): 259.12\n",
              "Params size (MB): 30.82\n",
              "Estimated Total Size (MB): 290.93\n",
              "===================================================================================================="
            ]
          },
          "metadata": {},
          "execution_count": 18
        }
      ]
    },
    {
      "cell_type": "markdown",
      "source": [
        "### 3.2 Creating DataLoaders for EffNetB2"
      ],
      "metadata": {
        "id": "1KZBxjQFO6fv"
      }
    },
    {
      "cell_type": "code",
      "source": [
        "# Setup DataLoaders\n",
        "from going_modular.going_modular import data_setup\n",
        "\n",
        "train_dataloader_effnetb2, test_dataloader_effnetb2, class_names = data_setup.create_dataloaders(train_dir = train_dir,\n",
        "                                                                                                 test_dir= test_dir,\n",
        "                                                                                                 transform=effnetb2_transforms,\n",
        "                                                                                                 batch_size=32\n",
        "                                                                                                 )\n"
      ],
      "metadata": {
        "id": "h9O5rroeOD-v"
      },
      "execution_count": 20,
      "outputs": []
    },
    {
      "cell_type": "code",
      "source": [
        "len(train_dataloader_effnetb2), len(test_dataloader_effnetb2), class_names"
      ],
      "metadata": {
        "colab": {
          "base_uri": "https://localhost:8080/"
        },
        "id": "7otiDnEXPOD8",
        "outputId": "186c5e35-bb18-474b-ed37-984d3546c507"
      },
      "execution_count": 21,
      "outputs": [
        {
          "output_type": "execute_result",
          "data": {
            "text/plain": [
              "(8, 3, ['pizza', 'steak', 'sushi'])"
            ]
          },
          "metadata": {},
          "execution_count": 21
        }
      ]
    },
    {
      "cell_type": "markdown",
      "source": [
        "### 3.3 Training EffNetB2 feature extractor"
      ],
      "metadata": {
        "id": "aHPnuA7gQX5o"
      }
    },
    {
      "cell_type": "code",
      "source": [
        "from going_modular.going_modular import engine\n",
        "\n",
        "# Loss function\n",
        "loss_fn = torch.nn.CrossEntropyLoss()\n",
        "\n",
        "# Optimizer\n",
        "optimizer = torch.optim.Adam(params=effnetb2.parameters(),\n",
        "                             lr=1e-3)\n",
        "\n",
        "# Training function (engine.py)\n",
        "set_seeds()\n",
        "effnetb2_results = engine.train(model=effnetb2,\n",
        "                                 train_dataloader=train_dataloader_effnetb2,\n",
        "                                 test_dataloader=test_dataloader_effnetb2,\n",
        "                                 epochs=10,\n",
        "                                 optimizer = optimizer,\n",
        "                                 loss_fn = loss_fn,\n",
        "                                 device = device)"
      ],
      "metadata": {
        "colab": {
          "base_uri": "https://localhost:8080/",
          "height": 232,
          "referenced_widgets": [
            "77d44bee96c74dcea83358bb3907c73d",
            "4f107411c6d547ca826259b7c554d011",
            "78410b9e4ae24d2dbebfc5d3897e27ac",
            "80c9f1bb8037434ab60742ea0ebeb725",
            "325d3f395ba549ffa0932cf2b3db0a2a",
            "5db85b3ced0d4e3bb6d809443a932b5a",
            "6a7414b18e534294b043e10bed49b1ec",
            "8b88dc7b62c644268fec1d4466032274",
            "054aa9f630994ece98df409932b107cf",
            "f67e118829b24f809eab929ccd611134",
            "441f06d84bc64fbeb902894f6a433df7"
          ]
        },
        "id": "D8_lpkDYQPZM",
        "outputId": "affe8700-6717-4acc-c3da-1dcc561973ac"
      },
      "execution_count": 27,
      "outputs": [
        {
          "output_type": "display_data",
          "data": {
            "text/plain": [
              "  0%|          | 0/10 [00:00<?, ?it/s]"
            ],
            "application/vnd.jupyter.widget-view+json": {
              "version_major": 2,
              "version_minor": 0,
              "model_id": "77d44bee96c74dcea83358bb3907c73d"
            }
          },
          "metadata": {}
        },
        {
          "output_type": "stream",
          "name": "stdout",
          "text": [
            "Epoch: 1 | train_loss: 0.0847 | train_acc: 0.9844 | test_loss: 0.3679 | test_acc: 0.9375\n",
            "Epoch: 2 | train_loss: 0.1622 | train_acc: 0.9648 | test_loss: 0.4460 | test_acc: 0.8769\n",
            "Epoch: 3 | train_loss: 0.1145 | train_acc: 0.9688 | test_loss: 0.1986 | test_acc: 0.9479\n",
            "Epoch: 4 | train_loss: 0.2190 | train_acc: 0.8672 | test_loss: 0.1668 | test_acc: 0.9583\n",
            "Epoch: 5 | train_loss: 0.0382 | train_acc: 1.0000 | test_loss: 0.2637 | test_acc: 0.9280\n",
            "Epoch: 6 | train_loss: 0.0440 | train_acc: 0.9961 | test_loss: 0.2551 | test_acc: 0.9280\n",
            "Epoch: 7 | train_loss: 0.0722 | train_acc: 0.9961 | test_loss: 0.3020 | test_acc: 0.9384\n",
            "Epoch: 8 | train_loss: 0.2591 | train_acc: 0.8633 | test_loss: 0.4418 | test_acc: 0.8968\n",
            "Epoch: 9 | train_loss: 0.1753 | train_acc: 0.8672 | test_loss: 0.1647 | test_acc: 0.9375\n",
            "Epoch: 10 | train_loss: 0.1391 | train_acc: 0.9844 | test_loss: 0.1370 | test_acc: 0.9384\n"
          ]
        }
      ]
    },
    {
      "cell_type": "markdown",
      "source": [
        "### 3.4 Inspecting EffNetB2 loss curves"
      ],
      "metadata": {
        "id": "DGHhtup5SxDe"
      }
    },
    {
      "cell_type": "code",
      "source": [
        "from helper_functions import plot_loss_curves\n",
        "plot_loss_curves(effnetb2_results)"
      ],
      "metadata": {
        "colab": {
          "base_uri": "https://localhost:8080/",
          "height": 641
        },
        "id": "_huzTAzYSIny",
        "outputId": "84a13108-0e1b-48e5-a800-a026a8ac0451"
      },
      "execution_count": 28,
      "outputs": [
        {
          "output_type": "display_data",
          "data": {
            "text/plain": [
              "<Figure size 1500x700 with 2 Axes>"
            ],
            "image/png": "[encoded data removed]"
          },
          "metadata": {}
        }
      ]
    },
    {
      "cell_type": "markdown",
      "source": [
        "### 3.5 Saving EffNetB2 feature extractor"
      ],
      "metadata": {
        "id": "JwwVqyx5UdEK"
      }
    },
    {
      "cell_type": "code",
      "source": [
        "from going_modular.going_modular import utils\n",
        "\n",
        "# Save the model\n",
        "utils.save_model(model=effnetb2,\n",
        "                 target_dir='models',\n",
        "                 model_name=\"09_pretrained_effnetb2_feature_extractor_pizza_steak_sushi_20_percent.pth\")"
      ],
      "metadata": {
        "colab": {
          "base_uri": "https://localhost:8080/"
        },
        "id": "WashBhxwTKKz",
        "outputId": "8ab6512e-ebff-49e6-f16b-b1d581e6a39c"
      },
      "execution_count": 29,
      "outputs": [
        {
          "output_type": "stream",
          "name": "stdout",
          "text": [
            "[INFO] Saving model to: models/09_pretrained_effnetb2_feature_extractor_pizza_steak_sushi_20_percent.pth\n"
          ]
        }
      ]
    },
    {
      "cell_type": "markdown",
      "source": [
        "### 3.6. Inspecting the size of our EffNetB2 feature extractor"
      ],
      "metadata": {
        "id": "QK__lDA2VORO"
      }
    },
    {
      "cell_type": "code",
      "source": [],
      "metadata": {
        "id": "GCpk2glyVEZR"
      },
      "execution_count": null,
      "outputs": []
    }
  ]
}